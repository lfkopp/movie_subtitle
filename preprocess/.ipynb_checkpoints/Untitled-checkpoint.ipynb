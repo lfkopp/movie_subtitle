{
 "cells": [
  {
   "cell_type": "code",
   "execution_count": 3,
   "metadata": {
    "collapsed": false
   },
   "outputs": [
    {
     "name": "stdout",
     "output_type": "stream",
     "text": [
      "showing info https://raw.githubusercontent.com/nltk/nltk_data/gh-pages/index.xml\n"
     ]
    },
    {
     "name": "stderr",
     "output_type": "stream",
     "text": [
      "Exception in Tkinter callback\n",
      "Traceback (most recent call last):\n",
      "  File \"/Users/mesutgurlek/anaconda/lib/python3.5/tkinter/__init__.py\", line 1550, in __call__\n",
      "    return self.func(*args)\n",
      "  File \"/Users/mesutgurlek/anaconda/lib/python3.5/site-packages/nltk/downloader.py\", line 1569, in _download\n",
      "    return self._download_threaded(*e)\n",
      "  File \"/Users/mesutgurlek/anaconda/lib/python3.5/site-packages/nltk/downloader.py\", line 1836, in _download_threaded\n",
      "    assert self._download_msg_queue == []\n",
      "AssertionError\n"
     ]
    }
   ],
   "source": [
    "import nltk\n",
    "nltk.download()\n",
    "#sent_tokenizer = nltk.data.load('tokenizers/punkt/english.pickle')"
   ]
  }
 ],
 "metadata": {
  "kernelspec": {
   "display_name": "Python [conda root]",
   "language": "python",
   "name": "conda-root-py"
  },
  "language_info": {
   "codemirror_mode": {
    "name": "ipython",
    "version": 3
   },
   "file_extension": ".py",
   "mimetype": "text/x-python",
   "name": "python",
   "nbconvert_exporter": "python",
   "pygments_lexer": "ipython3",
   "version": "3.5.2"
  }
 },
 "nbformat": 4,
 "nbformat_minor": 1
}
